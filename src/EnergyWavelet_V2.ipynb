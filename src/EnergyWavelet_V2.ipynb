{
 "cells": [
  {
   "cell_type": "markdown",
   "metadata": {},
   "source": [
    "# Computation of the energy of the wavelet coefficients\n",
    "\n"
   ]
  },
  {
   "cell_type": "code",
   "execution_count": 1,
   "metadata": {},
   "outputs": [],
   "source": [
    "import pywt # pip install pywavelets\n",
    "from matplotlib import pyplot as plt\n",
    "%matplotlib inline\n",
    "import numpy as np\n",
    "\n",
    "WAVELET = 'rbio3.5' #'db5'\n",
    "#WAVELET='db5'\n",
    "K=1 #level\n",
    "\n",
    "zero = np.zeros((32,32))\n",
    "#coeffs = np.array(frameb)\n",
    "delta = np.zeros((32,32))\n",
    "delta[16,16] = 255\n",
    "\n",
    "def Energy(frame):\n",
    "#    image = pywt.idwt2(frame, WAVELET, mode='per')\n",
    "#    image = pywt.idwt2(frame, WAVELET)\n",
    "\n",
    "#    plt.figure()\n",
    "#    plt.imshow(image)\n",
    "\n",
    "    #e = np.sum(image*image)\n",
    "    e = np.sum(np.power(image,2.0))\n",
    "    return e\n"
   ]
  },
  {
   "cell_type": "markdown",
   "metadata": {},
   "source": [
    "### Calculating Energy HH"
   ]
  },
  {
   "cell_type": "code",
   "execution_count": 2,
   "metadata": {},
   "outputs": [
    {
     "data": {
      "text/plain": [
       "<matplotlib.image.AxesImage at 0x1208c6dd8>"
      ]
     },
     "execution_count": 2,
     "metadata": {},
     "output_type": "execute_result"
    },
    {
     "data": {
      "image/png": "[encoded data removed]",
      "text/plain": [
       "<Figure size 432x288 with 4 Axes>"
      ]
     },
     "metadata": {
      "needs_background": "light"
     },
     "output_type": "display_data"
    },
    {
     "data": {
      "image/png": "[encoded data removed]",
      "text/plain": [
       "<Figure size 432x288 with 1 Axes>"
      ]
     },
     "metadata": {
      "needs_background": "light"
     },
     "output_type": "display_data"
    }
   ],
   "source": [
    "LL=zero\n",
    "LH=zero\n",
    "HL=zero\n",
    "HH=delta\n",
    "\n",
    "plt.figure()\n",
    "\n",
    "plt.subplot(2, 2, 1) # (rows, columns, panel number)\n",
    "plt.imshow(LL)\n",
    "\n",
    "plt.subplot(2, 2, 2)\n",
    "plt.imshow(LH)\n",
    "\n",
    "plt.subplot(2,2,3)\n",
    "plt.imshow(HL)\n",
    "\n",
    "plt.subplot(2,2,4)\n",
    "plt.imshow(HH)\n",
    "\n",
    "image = pywt.idwt2((LL,(LH,HL,HH)), WAVELET, mode='per')\n",
    "energyHH = Energy(image)\n",
    "plt.figure()\n",
    "plt.imshow(image)"
   ]
  },
  {
   "cell_type": "code",
   "execution_count": 3,
   "metadata": {},
   "outputs": [
    {
     "data": {
      "text/plain": [
       "-71.71874999999999"
      ]
     },
     "execution_count": 3,
     "metadata": {},
     "output_type": "execute_result"
    }
   ],
   "source": [
    "image[32,33]"
   ]
  },
  {
   "cell_type": "markdown",
   "metadata": {},
   "source": [
    "### Calculating Energy HL"
   ]
  },
  {
   "cell_type": "code",
   "execution_count": 4,
   "metadata": {},
   "outputs": [
    {
     "data": {
      "text/plain": [
       "<matplotlib.image.AxesImage at 0x120cae828>"
      ]
     },
     "execution_count": 4,
     "metadata": {},
     "output_type": "execute_result"
    },
    {
     "data": {
      "image/png": "[encoded data removed]",
      "text/plain": [
       "<Figure size 432x288 with 4 Axes>"
      ]
     },
     "metadata": {
      "needs_background": "light"
     },
     "output_type": "display_data"
    },
    {
     "data": {
      "image/png": "[encoded data removed]",
      "text/plain": [
       "<Figure size 432x288 with 1 Axes>"
      ]
     },
     "metadata": {
      "needs_background": "light"
     },
     "output_type": "display_data"
    }
   ],
   "source": [
    "LL=zero\n",
    "LH=zero\n",
    "HL=delta\n",
    "HH=zero\n",
    "\n",
    "plt.figure()\n",
    "\n",
    "plt.subplot(2, 2, 1) # (rows, columns, panel number)\n",
    "plt.imshow(LL)\n",
    "\n",
    "plt.subplot(2, 2, 2)\n",
    "plt.imshow(LH)\n",
    "\n",
    "plt.subplot(2,2,3)\n",
    "plt.imshow(HL)\n",
    "\n",
    "plt.subplot(2,2,4)\n",
    "plt.imshow(HH)\n",
    "\n",
    "image = pywt.idwt2((LL,(LH,HL,HH)), WAVELET, mode='per')\n",
    "energyHL = Energy(image)\n",
    "plt.figure()\n",
    "plt.imshow(image)"
   ]
  },
  {
   "cell_type": "markdown",
   "metadata": {},
   "source": [
    "### Calculating Energy LH"
   ]
  },
  {
   "cell_type": "code",
   "execution_count": 5,
   "metadata": {},
   "outputs": [
    {
     "data": {
      "text/plain": [
       "<matplotlib.image.AxesImage at 0x120eea630>"
      ]
     },
     "execution_count": 5,
     "metadata": {},
     "output_type": "execute_result"
    },
    {
     "data": {
      "image/png": "[encoded data removed]",
      "text/plain": [
       "<Figure size 432x288 with 4 Axes>"
      ]
     },
     "metadata": {
      "needs_background": "light"
     },
     "output_type": "display_data"
    },
    {
     "data": {
      "image/png": "[encoded data removed]",
      "text/plain": [
       "<Figure size 432x288 with 1 Axes>"
      ]
     },
     "metadata": {
      "needs_background": "light"
     },
     "output_type": "display_data"
    }
   ],
   "source": [
    "LL=zero\n",
    "LH=delta\n",
    "HL=zero\n",
    "HH=zero\n",
    "\n",
    "plt.figure()\n",
    "\n",
    "plt.subplot(2, 2, 1) # (rows, columns, panel number)\n",
    "plt.imshow(LL)\n",
    "\n",
    "plt.subplot(2, 2, 2)\n",
    "plt.imshow(LH)\n",
    "\n",
    "plt.subplot(2,2,3)\n",
    "plt.imshow(HL)\n",
    "\n",
    "plt.subplot(2,2,4)\n",
    "plt.imshow(HH)\n",
    "\n",
    "image = pywt.idwt2((LL,(LH,HL,HH)), WAVELET, mode='per')\n",
    "energyLH = Energy(image)\n",
    "plt.figure()\n",
    "plt.imshow(image)\n",
    "#energyLH = Energy((LL,(LH,HL,HH)))"
   ]
  },
  {
   "cell_type": "code",
   "execution_count": 6,
   "metadata": {},
   "outputs": [
    {
     "data": {
      "text/plain": [
       "130.7373046875"
      ]
     },
     "execution_count": 6,
     "metadata": {},
     "output_type": "execute_result"
    }
   ],
   "source": [
    "np.amax(image)"
   ]
  },
  {
   "cell_type": "markdown",
   "metadata": {},
   "source": [
    "### Calculating Energy LL"
   ]
  },
  {
   "cell_type": "code",
   "execution_count": 7,
   "metadata": {},
   "outputs": [
    {
     "data": {
      "text/plain": [
       "<matplotlib.image.AxesImage at 0x121120860>"
      ]
     },
     "execution_count": 7,
     "metadata": {},
     "output_type": "execute_result"
    },
    {
     "data": {
      "image/png": "[encoded data removed]",
      "text/plain": [
       "<Figure size 432x288 with 4 Axes>"
      ]
     },
     "metadata": {
      "needs_background": "light"
     },
     "output_type": "display_data"
    },
    {
     "data": {
      "image/png": "[encoded data removed]",
      "text/plain": [
       "<Figure size 432x288 with 1 Axes>"
      ]
     },
     "metadata": {
      "needs_background": "light"
     },
     "output_type": "display_data"
    }
   ],
   "source": [
    "LL=delta\n",
    "LH=zero\n",
    "HL=zero\n",
    "HH=zero\n",
    "\n",
    "plt.figure()\n",
    "\n",
    "plt.subplot(2, 2, 1) # (rows, columns, panel number)\n",
    "plt.imshow(LL)\n",
    "\n",
    "plt.subplot(2, 2, 2)\n",
    "plt.imshow(LH)\n",
    "\n",
    "plt.subplot(2,2,3)\n",
    "plt.imshow(HL)\n",
    "\n",
    "plt.subplot(2,2,4)\n",
    "plt.imshow(HH)\n",
    "\n",
    "    #energyLL = Energy((LL,(LH,HL,HH)))\n",
    "image = pywt.idwt2((LL,(LH,HL,HH)), WAVELET, mode='per')\n",
    "energyLL = Energy(image)\n",
    "plt.figure()\n",
    "plt.imshow(image)\n"
   ]
  },
  {
   "cell_type": "code",
   "execution_count": 8,
   "metadata": {},
   "outputs": [
    {
     "data": {
      "text/plain": [
       "238.32321166992188"
      ]
     },
     "execution_count": 8,
     "metadata": {},
     "output_type": "execute_result"
    }
   ],
   "source": [
    "np.amax(image)"
   ]
  },
  {
   "cell_type": "markdown",
   "metadata": {},
   "source": [
    "### Calculating Subband gains"
   ]
  },
  {
   "cell_type": "code",
   "execution_count": 9,
   "metadata": {},
   "outputs": [
    {
     "name": "stdout",
     "output_type": "stream",
     "text": [
      "Energy HH, HL, LH, LL\n",
      "25400.390624999993 82598.39916229248 82598.39916229248 268598.0560258962\n",
      "gainHH= 1.0\n",
      "gainHL= 3.251855468750001\n",
      "gainLH= 3.251855468750001\n",
      "gainLL= 10.574563989639286\n"
     ]
    }
   ],
   "source": [
    "gainHH = energyHH/energyHH\n",
    "gainHL = energyHL/energyHH\n",
    "gainLH = energyLH/energyHH\n",
    "gainLL = energyLL/energyHH\n",
    "print(\"Energy HH, HL, LH, LL\")\n",
    "print(energyHH, energyHL, energyLH, energyLL)\n",
    "print(\"gainHH=\",gainHH)\n",
    "print(\"gainHL=\",gainHL)\n",
    "print(\"gainLH=\",gainLH)\n",
    "print(\"gainLL=\", gainLL)"
   ]
  },
  {
   "cell_type": "code",
   "execution_count": null,
   "metadata": {},
   "outputs": [],
   "source": []
  }
 ],
 "metadata": {
  "kernelspec": {
   "display_name": "Python 3",
   "language": "python",
   "name": "python3"
  },
  "language_info": {
   "codemirror_mode": {
    "name": "ipython",
    "version": 3
   },
   "file_extension": ".py",
   "mimetype": "text/x-python",
   "name": "python",
   "nbconvert_exporter": "python",
   "pygments_lexer": "ipython3",
   "version": "3.7.2"
  }
 },
 "nbformat": 4,
 "nbformat_minor": 2
}
